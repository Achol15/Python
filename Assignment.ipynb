{
  "nbformat": 4,
  "nbformat_minor": 0,
  "metadata": {
    "colab": {
      "provenance": [],
      "authorship_tag": "ABX9TyP3pClZ1CfJAELXN6aL06i1",
      "include_colab_link": true
    },
    "kernelspec": {
      "name": "python3",
      "display_name": "Python 3"
    },
    "language_info": {
      "name": "python"
    }
  },
  "cells": [
    {
      "cell_type": "markdown",
      "metadata": {
        "id": "view-in-github",
        "colab_type": "text"
      },
      "source": [
        "<a href=\"https://colab.research.google.com/github/Achol15/Python/blob/main/Assignment.ipynb\" target=\"_parent\"><img src=\"https://colab.research.google.com/assets/colab-badge.svg\" alt=\"Open In Colab\"/></a>"
      ]
    },
    {
      "cell_type": "markdown",
      "source": [
        "1.Dictionary"
      ],
      "metadata": {
        "id": "A-L5HRuKUJoO"
      }
    },
    {
      "cell_type": "code",
      "execution_count": null,
      "metadata": {
        "id": "YI11Ru87vpD5",
        "colab": {
          "base_uri": "https://localhost:8080/"
        },
        "outputId": "bc2c7d36-b5de-47e2-c3e4-af38b516c8a9"
      },
      "outputs": [
        {
          "output_type": "stream",
          "name": "stdout",
          "text": [
            "Course Code: CSE102\n",
            "Name: Data Structures\n",
            "Credits: 4\n",
            "Instructor: Dr. Bob Jr.\n",
            "\n",
            "Course Code: CSE103\n",
            "Name: Database Systems\n",
            "Credits: 3\n",
            "Instructor: Dr. Carol\n",
            "\n",
            "Course Code: CSE104\n",
            "Name: Algorithms\n",
            "Credits: 4\n",
            "Instructor: Dr. Dave\n",
            "\n"
          ]
        }
      ],
      "source": [
        "def course():\n",
        "    # 1. Create a dictionary\n",
        "    courses = {\n",
        "        \"CSE101\": {\"Course name\": \"Introduction to Programming\", \"Credits\": 3, \"Instructor\": \"Dr. Alice\"},\n",
        "        \"CSE102\": {\"Course name\": \"Data Structures\", \"Credits\": 4, \"Instructor\": \"Dr. Bob\"},\n",
        "        \"CSE103\": {\"Course name\": \"Database Systems\", \"Credits\": 3, \"Instructor\": \"Dr. Carol\"}\n",
        "    }\n",
        "\n",
        "    # 2. Update\n",
        "    courses[\"CSE102\"][\"Instructor\"] = \"Dr. Bob Jr.\"\n",
        "\n",
        "    # 3. Add\n",
        "    courses[\"CSE104\"] = {\"Course name\": \"Algorithms\", \"Credits\": 4, \"Instructor\": \"Dr. Dave\"}\n",
        "\n",
        "    # 4. Remove\n",
        "    del courses[\"CSE101\"]\n",
        "\n",
        "    # 5. Loop through the dictionary and print the course code along with its details\n",
        "    for code, details in courses.items():\n",
        "        print(f\"Course Code: {code}\")\n",
        "        print(f\"Name: {details['Course name']}\")\n",
        "        print(f\"Credits: {details['Credits']}\")\n",
        "        print(f\"Instructor: {details['Instructor']}\")\n",
        "        print()\n",
        "course()"
      ]
    },
    {
      "cell_type": "markdown",
      "source": [
        "2.String"
      ],
      "metadata": {
        "id": "bdg9vDxDco_c"
      }
    },
    {
      "cell_type": "code",
      "source": [
        "sentence = \"Learning Python is fun and rewarding.\"\n",
        "\n",
        "# a. Extract the substring \"Python is fun\" using negative slicing\n",
        "substring = sentence[-28:-14]\n",
        "print(\"Extracted substring:\", substring)\n",
        "print()\n",
        "\n",
        "# b. Modify the original string by replacing \"rewarding\" with \"exciting\"\n",
        "sentence = sentence.replace(\"rewarding\", \"exciting\")\n",
        "print(\"Modified sentence:\", sentence)\n",
        "print()\n",
        "\n",
        "# c. Insert the phrase \" Keep practicing!\" after \"exciting\" in the modified string\n",
        "Insert_index = sentence.find(\"exciting.\") + len(\"exciting.\")\n",
        "sentence = sentence[:Insert_index] + \" Keep practicing!\" + sentence[Insert_index:]\n",
        "print(\"Modified sentence with inserted phrase:\", sentence)\n",
        "print()\n",
        "\n",
        "# d. Capitalize the first letter of each word in the final output\n",
        "Final = \" \".join(word.capitalize() for word in sentence.split())\n",
        "print(\"Final output:\", Final)\n"
      ],
      "metadata": {
        "colab": {
          "base_uri": "https://localhost:8080/"
        },
        "id": "mAjjrQsbcwPN",
        "outputId": "c86f25ab-a0f7-42a9-ce12-531c651cf014"
      },
      "execution_count": null,
      "outputs": [
        {
          "output_type": "stream",
          "name": "stdout",
          "text": [
            "Extracted substring: Python is fun \n",
            "\n",
            "Modified sentence: Learning Python is fun and exciting.\n",
            "\n",
            "Modified sentence with inserted phrase: Learning Python is fun and exciting. Keep practicing!\n",
            "\n",
            "Final output: Learning Python Is Fun And Exciting. Keep Practicing!\n"
          ]
        }
      ]
    },
    {
      "cell_type": "markdown",
      "source": [
        "3.List"
      ],
      "metadata": {
        "id": "D3bExY-Aqi7O"
      }
    },
    {
      "cell_type": "code",
      "source": [
        "customers = [\"Alice\", \"Bob\", \"Charlie\", \"David\", \"Eve\"]\n",
        "\n",
        "# a\n",
        "print(\"Third customer:\", customers[2])\n",
        "print()\n",
        "\n",
        "# b\n",
        "customers[1] = \"Ben\"\n",
        "print(\"Change second customer's name:\", customers)\n",
        "print()\n",
        "\n",
        "# c\n",
        "customers.append(\"Frank\")\n",
        "print(\"Adding new customer:\", customers)\n",
        "print()\n",
        "\n",
        "# d\n",
        "customers.remove(\"David\")\n",
        "print(\"Removing customer 'David':\", customers)\n",
        "print()\n",
        "\n",
        "# e\n",
        "customers.sort()\n",
        "print(\"Final sorted list:\", customers)"
      ],
      "metadata": {
        "colab": {
          "base_uri": "https://localhost:8080/"
        },
        "id": "z4g0-B0oqqZn",
        "outputId": "a5030607-c27b-4f0c-956d-a0c3919545ef"
      },
      "execution_count": null,
      "outputs": [
        {
          "output_type": "stream",
          "name": "stdout",
          "text": [
            "Third customer: Charlie\n",
            "\n",
            "Change second customer's name: ['Alice', 'Ben', 'Charlie', 'David', 'Eve']\n",
            "\n",
            "Adding new customer: ['Alice', 'Ben', 'Charlie', 'David', 'Eve', 'Frank']\n",
            "\n",
            "Removing customer 'David': ['Alice', 'Ben', 'Charlie', 'Eve', 'Frank']\n",
            "\n",
            "Final sorted list: ['Alice', 'Ben', 'Charlie', 'Eve', 'Frank']\n"
          ]
        }
      ]
    },
    {
      "cell_type": "markdown",
      "source": [
        "4.Control Flow"
      ],
      "metadata": {
        "id": "364wooDXuIYZ"
      }
    },
    {
      "cell_type": "code",
      "source": [
        "grades = [85, 78, 92, 45, 33, 67, 88, 41]\n",
        "\n",
        "# a\n",
        "print(\"Grade Categories:\")\n",
        "for grade in grades:\n",
        "    if grade > 80:\n",
        "        category = \"A\"\n",
        "    elif 60 <= grade <= 80:\n",
        "        category = \"B\"\n",
        "    elif 40 <= grade <= 60:\n",
        "        category = \"C\"\n",
        "    else:\n",
        "        category = \"F\"\n",
        "    print(f\"Score: {grade} - Grade: {category}\")\n",
        "\n",
        "# b\n",
        "def boost_grades(grades):\n",
        "    return list(map(lambda x: round(x * 1.05, 2), grades))\n",
        "\n",
        "boosted_grades = boost_grades(grades)\n",
        "print(\"\\nBoosted Grades:\")\n",
        "print(boosted_grades)\n",
        "\n",
        "# c\n",
        "above_90 = list(filter(lambda x: x > 90, boosted_grades))\n",
        "print(\"\\nBoosted Grades Above 90:\")\n",
        "print(above_90)"
      ],
      "metadata": {
        "colab": {
          "base_uri": "https://localhost:8080/"
        },
        "id": "M5u2u2IuuO5N",
        "outputId": "0cbb3dda-8755-4aac-cea7-ade42119703a"
      },
      "execution_count": null,
      "outputs": [
        {
          "output_type": "stream",
          "name": "stdout",
          "text": [
            "Grade Categories:\n",
            "Score: 85 - Grade: A\n",
            "Score: 78 - Grade: B\n",
            "Score: 92 - Grade: A\n",
            "Score: 45 - Grade: C\n",
            "Score: 33 - Grade: F\n",
            "Score: 67 - Grade: B\n",
            "Score: 88 - Grade: A\n",
            "Score: 41 - Grade: C\n",
            "\n",
            "Boosted Grades:\n",
            "[89.25, 81.9, 96.6, 47.25, 34.65, 70.35, 92.4, 43.05]\n",
            "\n",
            "Boosted Grades Above 90:\n",
            "[96.6, 92.4]\n"
          ]
        }
      ]
    },
    {
      "cell_type": "markdown",
      "source": [
        "5.Tuple & Set"
      ],
      "metadata": {
        "id": "_WSnYTr3xCLa"
      }
    },
    {
      "cell_type": "code",
      "source": [
        "books = (\n",
        "    (\"To Kill a Mockingbird\", \"Harper Lee\", 1960),\n",
        "    (\"1984\", \"George Orwell\", 1949),\n",
        "    (\"The Great Gatsby\", \"F. Scott Fitzgerald\", 1925)\n",
        ")\n",
        "\n",
        "tags = {\"classic\", \"dystopian\", \"novel\", \"literature\"}\n",
        "\n",
        "# a\n",
        "print(books[1][1])  # Output: George Orwell\n",
        "print()\n",
        "\n",
        "# b\n",
        "new_book = (\"Brave New World\", \"Aldous Huxley\", 1932)\n",
        "books = books + (new_book,)\n",
        "print(books)\n",
        "print()\n",
        "\n",
        "# c\n",
        "title, author, year = books[2]\n",
        "print(f\"Title: {title}, Author: {author}, Year: {year}\")\n",
        "print()\n",
        "\n",
        "# d\n",
        "for book in books:\n",
        "    print(book[0])\n",
        "    print()\n",
        "\n",
        "# e\n",
        "tags.add(\"sci-fi\")\n",
        "print(tags)\n",
        "print()\n",
        "\n",
        "# f\n",
        "tags.remove(\"novel\")\n",
        "print(tags)"
      ],
      "metadata": {
        "colab": {
          "base_uri": "https://localhost:8080/"
        },
        "id": "FaMoRz9ixJHi",
        "outputId": "51f0bbfa-5a6c-41c2-9cee-b7a1908dc3be"
      },
      "execution_count": 27,
      "outputs": [
        {
          "output_type": "stream",
          "name": "stdout",
          "text": [
            "George Orwell\n",
            "\n",
            "(('To Kill a Mockingbird', 'Harper Lee', 1960), ('1984', 'George Orwell', 1949), ('The Great Gatsby', 'F. Scott Fitzgerald', 1925), ('Brave New World', 'Aldous Huxley', 1932))\n",
            "\n",
            "Title: The Great Gatsby, Author: F. Scott Fitzgerald, Year: 1925\n",
            "\n",
            "To Kill a Mockingbird\n",
            "\n",
            "1984\n",
            "\n",
            "The Great Gatsby\n",
            "\n",
            "Brave New World\n",
            "\n",
            "{'dystopian', 'classic', 'sci-fi', 'literature', 'novel'}\n",
            "\n",
            "{'dystopian', 'classic', 'sci-fi', 'literature'}\n"
          ]
        }
      ]
    }
  ]
}