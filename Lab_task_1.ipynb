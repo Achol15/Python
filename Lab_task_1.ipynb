{
  "nbformat": 4,
  "nbformat_minor": 0,
  "metadata": {
    "colab": {
      "provenance": [],
      "authorship_tag": "ABX9TyMpj9PfLex3Ym88chMUGaP6",
      "include_colab_link": true
    },
    "kernelspec": {
      "name": "python3",
      "display_name": "Python 3"
    },
    "language_info": {
      "name": "python"
    }
  },
  "cells": [
    {
      "cell_type": "markdown",
      "metadata": {
        "id": "view-in-github",
        "colab_type": "text"
      },
      "source": [
        "<a href=\"https://colab.research.google.com/github/Achol15/Python/blob/main/Lab_task_1.ipynb\" target=\"_parent\"><img src=\"https://colab.research.google.com/assets/colab-badge.svg\" alt=\"Open In Colab\"/></a>"
      ]
    },
    {
      "cell_type": "markdown",
      "source": [
        "Hello\n"
      ],
      "metadata": {
        "id": "COU-qNbeGz7z"
      }
    },
    {
      "cell_type": "code",
      "source": [
        "print(\"Hello World!\")\n"
      ],
      "metadata": {
        "colab": {
          "base_uri": "https://localhost:8080/"
        },
        "id": "Lv_fvjyMG6JA",
        "outputId": "2a2f9705-20c8-4b8a-e9cd-20d759b9a6e9"
      },
      "execution_count": 1,
      "outputs": [
        {
          "output_type": "stream",
          "name": "stdout",
          "text": [
            "Hello World!\n"
          ]
        }
      ]
    },
    {
      "cell_type": "markdown",
      "source": [
        "Comment"
      ],
      "metadata": {
        "id": "857_9G34HUGf"
      }
    },
    {
      "cell_type": "code",
      "source": [
        "# sample comment\n",
        "# This is Python Comment\n",
        "name = \"Noor\"\n",
        "print(name)\n"
      ],
      "metadata": {
        "colab": {
          "base_uri": "https://localhost:8080/"
        },
        "id": "qLm_ojy3Hc8a",
        "outputId": "fabcbd43-ee00-41b7-d7dc-9d85bd331417"
      },
      "execution_count": 2,
      "outputs": [
        {
          "output_type": "stream",
          "name": "stdout",
          "text": [
            "Noor\n"
          ]
        }
      ]
    },
    {
      "cell_type": "markdown",
      "source": [
        "Variable"
      ],
      "metadata": {
        "id": "CA-3UgsnHozj"
      }
    },
    {
      "cell_type": "code",
      "source": [
        "age = 21\n",
        "salary = 1456.8\n",
        "name = \"Achol\"\n",
        "\n",
        "print(age)\n",
        "print(salary)\n",
        "print(name)\n",
        "x = 69\n",
        "x = \"Bangladesh\"\n",
        "\n",
        "print(x)\n",
        "print(type(x))"
      ],
      "metadata": {
        "colab": {
          "base_uri": "https://localhost:8080/"
        },
        "id": "503LozKMHxOc",
        "outputId": "883a7015-72ed-4a98-ad3e-9b8aafe7c199"
      },
      "execution_count": 25,
      "outputs": [
        {
          "output_type": "stream",
          "name": "stdout",
          "text": [
            "21\n",
            "1456.8\n",
            "Achol\n",
            "Bangladesh\n",
            "<class 'str'>\n"
          ]
        }
      ]
    },
    {
      "cell_type": "markdown",
      "source": [
        "Data Type"
      ],
      "metadata": {
        "id": "Qh361XfZIBh6"
      }
    },
    {
      "cell_type": "code",
      "source": [
        "x = \"Hello World\" # string\n",
        "x = 50  # integer\n",
        "x = 60.5  # float\n",
        "x = 3j  # complex\n",
        "x = [\"geeks\", \"for\", \"geeks\"]  # list\n",
        "x = (\"geeks\", \"for\", \"geeks\")  # tuple\n",
        "x = {\"name\": \"Achol\", \"age\": 21} # dict\n",
        "x = {\"geeks\", \"for\", \"geeks\"} # set\n",
        "x = True  # bool\n",
        "x = b\"Geeks\" # binary\n"
      ],
      "metadata": {
        "id": "MZsmfsQEIJWC"
      },
      "execution_count": 5,
      "outputs": []
    },
    {
      "cell_type": "markdown",
      "source": [
        "Input/Output"
      ],
      "metadata": {
        "id": "_NSUa-S-M1fF"
      }
    },
    {
      "cell_type": "code",
      "source": [
        "val = input(\"Enter your value: \")\n",
        "print(val)\n",
        "x = input(\"Enter the first number: \")\n",
        "y = input(\"Enter the second number: \")\n",
        "\n",
        "add = x+y\n",
        "print(add)\n"
      ],
      "metadata": {
        "colab": {
          "base_uri": "https://localhost:8080/"
        },
        "id": "QYn1fQoONBX7",
        "outputId": "976dde9d-d9a8-4e9f-8cf5-f6cc9189c707"
      },
      "execution_count": 21,
      "outputs": [
        {
          "output_type": "stream",
          "name": "stdout",
          "text": [
            "Enter your value: 10\n",
            "10\n",
            "Enter the first number: 5\n",
            "Enter the second number: 6\n",
            "56\n"
          ]
        }
      ]
    },
    {
      "cell_type": "markdown",
      "source": [
        "Operators"
      ],
      "metadata": {
        "id": "Q60Pu46fNU7K"
      }
    },
    {
      "cell_type": "code",
      "source": [
        "a = 9\n",
        "b = 4\n",
        "add = a + b\n",
        "sub = a - b\n",
        "mul = a * b\n",
        "mod = a % b\n",
        "p = a ** b\n",
        "print(add)\n",
        "print(sub)\n",
        "print(mul)\n",
        "print(mod)\n",
        "print(p)\n"
      ],
      "metadata": {
        "colab": {
          "base_uri": "https://localhost:8080/"
        },
        "id": "PkQ_c5gdNWhm",
        "outputId": "e04dbcae-6da0-4f6a-86d7-675a4e4607f5"
      },
      "execution_count": 7,
      "outputs": [
        {
          "output_type": "stream",
          "name": "stdout",
          "text": [
            "13\n",
            "5\n",
            "36\n",
            "1\n",
            "6561\n"
          ]
        }
      ]
    },
    {
      "cell_type": "markdown",
      "source": [
        "Logical Operetor"
      ],
      "metadata": {
        "id": "E8oaHtUZNp2a"
      }
    },
    {
      "cell_type": "code",
      "source": [
        "a = True\n",
        "b = False\n",
        "print(a and b)\n",
        "print(a or b)\n",
        "print(not a)\n"
      ],
      "metadata": {
        "colab": {
          "base_uri": "https://localhost:8080/"
        },
        "id": "Dr9k-l_0N4Xw",
        "outputId": "a15f0a63-af30-493e-cd3e-120e5d0eb21b"
      },
      "execution_count": 8,
      "outputs": [
        {
          "output_type": "stream",
          "name": "stdout",
          "text": [
            "False\n",
            "True\n",
            "False\n"
          ]
        }
      ]
    },
    {
      "cell_type": "markdown",
      "source": [
        "Assignment Operators"
      ],
      "metadata": {
        "id": "XEgIog7GOEw4"
      }
    },
    {
      "cell_type": "code",
      "source": [
        "a = 10\n",
        "b = a\n",
        "print(b)\n",
        "b += a\n",
        "print(b)\n",
        "b -= a\n",
        "print(b)\n",
        "b *= a\n",
        "print(b)\n",
        "b <<= a\n",
        "print(b)\n"
      ],
      "metadata": {
        "colab": {
          "base_uri": "https://localhost:8080/"
        },
        "id": "IjDX_DsCOGYL",
        "outputId": "ccda815a-592f-4369-9c65-578e48f0b801"
      },
      "execution_count": 9,
      "outputs": [
        {
          "output_type": "stream",
          "name": "stdout",
          "text": [
            "10\n",
            "20\n",
            "10\n",
            "100\n",
            "102400\n"
          ]
        }
      ]
    },
    {
      "cell_type": "markdown",
      "source": [
        "If Else"
      ],
      "metadata": {
        "id": "F6T7GjGGOPNU"
      }
    },
    {
      "cell_type": "code",
      "source": [
        "i = 20\n",
        "if (i < 15):\n",
        "    print(\"i is smaller than 15\")\n",
        "    print(\"i'm in if Block\")\n",
        "else:\n",
        "    print(\"i is greater than 15\")\n",
        "    print(\"i'm in else Block\")\n",
        "print(\"i'm not in if and not in else Block\")\n"
      ],
      "metadata": {
        "colab": {
          "base_uri": "https://localhost:8080/"
        },
        "id": "3JJAerpkOUeN",
        "outputId": "18f273f8-711e-460d-f77f-aaba10625a1e"
      },
      "execution_count": 10,
      "outputs": [
        {
          "output_type": "stream",
          "name": "stdout",
          "text": [
            "i is greater than 15\n",
            "i'm in else Block\n",
            "i'm not in if and not in else Block\n"
          ]
        }
      ]
    },
    {
      "cell_type": "markdown",
      "source": [
        "if-elif-else"
      ],
      "metadata": {
        "id": "b4I1puVMOz17"
      }
    },
    {
      "cell_type": "code",
      "source": [
        "i = 20\n",
        "if (i == 10):\n",
        "    print(\"i is 10\")\n",
        "elif (i == 15):\n",
        "    print(\"i is 15\")\n",
        "elif (i == 20):\n",
        "    print(\"i is 20\")\n",
        "else:\n",
        "    print(\"i is not present\")\n"
      ],
      "metadata": {
        "colab": {
          "base_uri": "https://localhost:8080/"
        },
        "id": "tXAQ7lUgO19y",
        "outputId": "8e993c78-3b93-4470-a6b0-81839e468fe1"
      },
      "execution_count": 11,
      "outputs": [
        {
          "output_type": "stream",
          "name": "stdout",
          "text": [
            "i is 20\n"
          ]
        }
      ]
    },
    {
      "cell_type": "markdown",
      "source": [
        "For Loop"
      ],
      "metadata": {
        "id": "q3-V_cLwPBcN"
      }
    },
    {
      "cell_type": "code",
      "source": [
        "for i in range(0, 10, 2):\n",
        "    print(i)\n"
      ],
      "metadata": {
        "colab": {
          "base_uri": "https://localhost:8080/"
        },
        "id": "sHRhQ1gGPC8g",
        "outputId": "fc930349-bcd8-4d5b-a57c-cb7d0fe23dd3"
      },
      "execution_count": 12,
      "outputs": [
        {
          "output_type": "stream",
          "name": "stdout",
          "text": [
            "0\n",
            "2\n",
            "4\n",
            "6\n",
            "8\n"
          ]
        }
      ]
    },
    {
      "cell_type": "markdown",
      "source": [
        "While Loop"
      ],
      "metadata": {
        "id": "_d-l0Ud-Pl0q"
      }
    },
    {
      "cell_type": "code",
      "source": [
        "count = 0\n",
        "while (count < 3):\n",
        "    count = count + 1\n",
        "    print(\"Hello\")\n"
      ],
      "metadata": {
        "colab": {
          "base_uri": "https://localhost:8080/"
        },
        "id": "Zpv3MREjPqQq",
        "outputId": "a0b90a17-8e57-4624-afea-bbf79e87ed4e"
      },
      "execution_count": 13,
      "outputs": [
        {
          "output_type": "stream",
          "name": "stdout",
          "text": [
            "Hello\n",
            "Hello\n",
            "Hello\n"
          ]
        }
      ]
    },
    {
      "cell_type": "markdown",
      "source": [
        "Escape sequence"
      ],
      "metadata": {
        "id": "TDq7S8tTSZF7"
      }
    },
    {
      "cell_type": "code",
      "source": [
        "a = 5\n",
        "b = 7\n",
        "\n",
        "sum = a + b\n",
        "print(\"Sum is\", sum)\n",
        "\n",
        "print(\"Display \\\"Hi\\\" in quotes\")\n",
        "\n",
        "print(\"Display \\'Hi\\' in quotes\")\n",
        "\n",
        "print(\"\"\"Display \"Hi\" and \"Bye\" in quotes \"\"\")"
      ],
      "metadata": {
        "colab": {
          "base_uri": "https://localhost:8080/"
        },
        "id": "-e8Ve5xsSdWz",
        "outputId": "ca971158-3fe5-4320-b9c2-1cf4b52a3fe1"
      },
      "execution_count": 15,
      "outputs": [
        {
          "output_type": "stream",
          "name": "stdout",
          "text": [
            "Sum is 12\n",
            "Display \"Hi\" in quotes\n",
            "Display 'Hi' in quotes\n",
            "Display \"Hi\" and \"Bye\" in quotes \n"
          ]
        }
      ]
    },
    {
      "cell_type": "markdown",
      "source": [
        "Print function"
      ],
      "metadata": {
        "id": "6RCPYeh-UIH-"
      }
    },
    {
      "cell_type": "code",
      "source": [
        "print(\"Welcome to Python!\")\n",
        "\n",
        "print(\"Welcome\", \"to\", \"Python!\")\n",
        "\n",
        "print(\"Welcome\\n to\\n Python!\")"
      ],
      "metadata": {
        "colab": {
          "base_uri": "https://localhost:8080/"
        },
        "id": "xaXPLh1jULbP",
        "outputId": "88339bd0-7d50-4421-f51c-2cf9611ef268"
      },
      "execution_count": 22,
      "outputs": [
        {
          "output_type": "stream",
          "name": "stdout",
          "text": [
            "Welcome to Python!\n",
            "Welcome to Python!\n",
            "Welcome\n",
            " to\n",
            " Python!\n"
          ]
        }
      ]
    },
    {
      "cell_type": "markdown",
      "source": [
        "Syntex"
      ],
      "metadata": {
        "id": "tw1ItNYtUjDK"
      }
    },
    {
      "cell_type": "code",
      "source": [
        "print(\"Hello World!\")\n",
        "\n",
        "a = 5\n",
        "b = 2\n",
        "print(a+b)"
      ],
      "metadata": {
        "colab": {
          "base_uri": "https://localhost:8080/"
        },
        "id": "xNjqTLFDUk-N",
        "outputId": "b710bb07-d90b-4dcb-d0c6-f02d5aa3e021"
      },
      "execution_count": 24,
      "outputs": [
        {
          "output_type": "stream",
          "name": "stdout",
          "text": [
            "Hello World!\n",
            "7\n"
          ]
        }
      ]
    }
  ]
}